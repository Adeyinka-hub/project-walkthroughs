{
 "cells": [
  {
   "cell_type": "code",
   "execution_count": 1,
   "id": "f53fcbbf-a62d-4aa2-be7b-9aa4e17a5e48",
   "metadata": {},
   "outputs": [],
   "source": [
    "import yfinance as yf\n",
    "import pandas as pd\n",
    "import os"
   ]
  },
  {
   "cell_type": "code",
   "execution_count": 2,
   "id": "0c4d2b51-1187-44c7-a281-da84d0381dd5",
   "metadata": {},
   "outputs": [],
   "source": [
    "if os.path.exists(\"sp500.csv\"):\n",
    "    sp500 = pd.read_csv(\"sp500.csv\", index_col=0)\n",
    "else:\n",
    "    sp500 = yf.Ticker(\"^GSPC\")\n",
    "    sp500 = sp500.history(period=\"max\")\n",
    "    sp500.to_csv(\"sp500.csv\")"
   ]
  },
  {
   "cell_type": "code",
   "execution_count": 3,
   "id": "fbb162ce-7d18-4c14-b349-9014c0d6db42",
   "metadata": {},
   "outputs": [
    {
     "data": {
      "text/html": [
       "<div>\n",
       "<style scoped>\n",
       "    .dataframe tbody tr th:only-of-type {\n",
       "        vertical-align: middle;\n",
       "    }\n",
       "\n",
       "    .dataframe tbody tr th {\n",
       "        vertical-align: top;\n",
       "    }\n",
       "\n",
       "    .dataframe thead th {\n",
       "        text-align: right;\n",
       "    }\n",
       "</style>\n",
       "<table border=\"1\" class=\"dataframe\">\n",
       "  <thead>\n",
       "    <tr style=\"text-align: right;\">\n",
       "      <th></th>\n",
       "      <th>Open</th>\n",
       "      <th>High</th>\n",
       "      <th>Low</th>\n",
       "      <th>Close</th>\n",
       "      <th>Volume</th>\n",
       "      <th>Dividends</th>\n",
       "      <th>Stock Splits</th>\n",
       "    </tr>\n",
       "    <tr>\n",
       "      <th>Date</th>\n",
       "      <th></th>\n",
       "      <th></th>\n",
       "      <th></th>\n",
       "      <th></th>\n",
       "      <th></th>\n",
       "      <th></th>\n",
       "      <th></th>\n",
       "    </tr>\n",
       "  </thead>\n",
       "  <tbody>\n",
       "    <tr>\n",
       "      <th>1950-01-03</th>\n",
       "      <td>16.660000</td>\n",
       "      <td>16.660000</td>\n",
       "      <td>16.660000</td>\n",
       "      <td>16.660000</td>\n",
       "      <td>1260000</td>\n",
       "      <td>0</td>\n",
       "      <td>0</td>\n",
       "    </tr>\n",
       "    <tr>\n",
       "      <th>1950-01-04</th>\n",
       "      <td>16.850000</td>\n",
       "      <td>16.850000</td>\n",
       "      <td>16.850000</td>\n",
       "      <td>16.850000</td>\n",
       "      <td>1890000</td>\n",
       "      <td>0</td>\n",
       "      <td>0</td>\n",
       "    </tr>\n",
       "    <tr>\n",
       "      <th>1950-01-05</th>\n",
       "      <td>16.930000</td>\n",
       "      <td>16.930000</td>\n",
       "      <td>16.930000</td>\n",
       "      <td>16.930000</td>\n",
       "      <td>2550000</td>\n",
       "      <td>0</td>\n",
       "      <td>0</td>\n",
       "    </tr>\n",
       "    <tr>\n",
       "      <th>1950-01-06</th>\n",
       "      <td>16.980000</td>\n",
       "      <td>16.980000</td>\n",
       "      <td>16.980000</td>\n",
       "      <td>16.980000</td>\n",
       "      <td>2010000</td>\n",
       "      <td>0</td>\n",
       "      <td>0</td>\n",
       "    </tr>\n",
       "    <tr>\n",
       "      <th>1950-01-09</th>\n",
       "      <td>17.080000</td>\n",
       "      <td>17.080000</td>\n",
       "      <td>17.080000</td>\n",
       "      <td>17.080000</td>\n",
       "      <td>2520000</td>\n",
       "      <td>0</td>\n",
       "      <td>0</td>\n",
       "    </tr>\n",
       "    <tr>\n",
       "      <th>...</th>\n",
       "      <td>...</td>\n",
       "      <td>...</td>\n",
       "      <td>...</td>\n",
       "      <td>...</td>\n",
       "      <td>...</td>\n",
       "      <td>...</td>\n",
       "      <td>...</td>\n",
       "    </tr>\n",
       "    <tr>\n",
       "      <th>2022-05-10</th>\n",
       "      <td>4035.179932</td>\n",
       "      <td>4068.820068</td>\n",
       "      <td>3958.169922</td>\n",
       "      <td>4001.050049</td>\n",
       "      <td>4630150000</td>\n",
       "      <td>0</td>\n",
       "      <td>0</td>\n",
       "    </tr>\n",
       "    <tr>\n",
       "      <th>2022-05-11</th>\n",
       "      <td>3990.080078</td>\n",
       "      <td>4049.090088</td>\n",
       "      <td>3928.820068</td>\n",
       "      <td>3935.179932</td>\n",
       "      <td>4683220000</td>\n",
       "      <td>0</td>\n",
       "      <td>0</td>\n",
       "    </tr>\n",
       "    <tr>\n",
       "      <th>2022-05-12</th>\n",
       "      <td>3903.949951</td>\n",
       "      <td>3964.800049</td>\n",
       "      <td>3858.870117</td>\n",
       "      <td>3930.080078</td>\n",
       "      <td>4964130000</td>\n",
       "      <td>0</td>\n",
       "      <td>0</td>\n",
       "    </tr>\n",
       "    <tr>\n",
       "      <th>2022-05-13</th>\n",
       "      <td>3963.899902</td>\n",
       "      <td>4038.879883</td>\n",
       "      <td>3963.899902</td>\n",
       "      <td>4023.889893</td>\n",
       "      <td>4142950000</td>\n",
       "      <td>0</td>\n",
       "      <td>0</td>\n",
       "    </tr>\n",
       "    <tr>\n",
       "      <th>2022-05-16</th>\n",
       "      <td>4013.020020</td>\n",
       "      <td>4046.459961</td>\n",
       "      <td>3983.989990</td>\n",
       "      <td>4008.010010</td>\n",
       "      <td>2203333000</td>\n",
       "      <td>0</td>\n",
       "      <td>0</td>\n",
       "    </tr>\n",
       "  </tbody>\n",
       "</table>\n",
       "<p>18211 rows × 7 columns</p>\n",
       "</div>"
      ],
      "text/plain": [
       "                   Open         High          Low        Close      Volume  \\\n",
       "Date                                                                         \n",
       "1950-01-03    16.660000    16.660000    16.660000    16.660000     1260000   \n",
       "1950-01-04    16.850000    16.850000    16.850000    16.850000     1890000   \n",
       "1950-01-05    16.930000    16.930000    16.930000    16.930000     2550000   \n",
       "1950-01-06    16.980000    16.980000    16.980000    16.980000     2010000   \n",
       "1950-01-09    17.080000    17.080000    17.080000    17.080000     2520000   \n",
       "...                 ...          ...          ...          ...         ...   \n",
       "2022-05-10  4035.179932  4068.820068  3958.169922  4001.050049  4630150000   \n",
       "2022-05-11  3990.080078  4049.090088  3928.820068  3935.179932  4683220000   \n",
       "2022-05-12  3903.949951  3964.800049  3858.870117  3930.080078  4964130000   \n",
       "2022-05-13  3963.899902  4038.879883  3963.899902  4023.889893  4142950000   \n",
       "2022-05-16  4013.020020  4046.459961  3983.989990  4008.010010  2203333000   \n",
       "\n",
       "            Dividends  Stock Splits  \n",
       "Date                                 \n",
       "1950-01-03          0             0  \n",
       "1950-01-04          0             0  \n",
       "1950-01-05          0             0  \n",
       "1950-01-06          0             0  \n",
       "1950-01-09          0             0  \n",
       "...               ...           ...  \n",
       "2022-05-10          0             0  \n",
       "2022-05-11          0             0  \n",
       "2022-05-12          0             0  \n",
       "2022-05-13          0             0  \n",
       "2022-05-16          0             0  \n",
       "\n",
       "[18211 rows x 7 columns]"
      ]
     },
     "execution_count": 3,
     "metadata": {},
     "output_type": "execute_result"
    }
   ],
   "source": [
    "sp500"
   ]
  },
  {
   "cell_type": "code",
   "execution_count": 4,
   "id": "3e7ddd5b-9c2d-4c13-8210-72a4adb61159",
   "metadata": {},
   "outputs": [
    {
     "data": {
      "text/plain": [
       "<AxesSubplot:xlabel='Date'>"
      ]
     },
     "execution_count": 4,
     "metadata": {},
     "output_type": "execute_result"
    },
    {
     "data": {
      "image/png": "[encoded data removed]",
      "text/plain": [
       "<Figure size 432x288 with 1 Axes>"
      ]
     },
     "metadata": {
      "needs_background": "light"
     },
     "output_type": "display_data"
    }
   ],
   "source": [
    "sp500.plot.line(y=\"Close\", use_index=True)"
   ]
  },
  {
   "cell_type": "code",
   "execution_count": 5,
   "id": "1b02b64d-9eef-489f-894d-26f9e6792db5",
   "metadata": {},
   "outputs": [],
   "source": [
    "del sp500[\"Dividends\"]\n",
    "del sp500[\"Stock Splits\"]"
   ]
  },
  {
   "cell_type": "code",
   "execution_count": 6,
   "id": "f25e1594-1cd2-47ae-bb50-a0d17ac35c69",
   "metadata": {},
   "outputs": [],
   "source": [
    "sp500[\"Tomorrow\"] = sp500[\"Close\"].shift(-1)"
   ]
  },
  {
   "cell_type": "code",
   "execution_count": 7,
   "id": "871b16a1-9d77-40c8-8564-1947b438a113",
   "metadata": {},
   "outputs": [],
   "source": [
    "sp500[\"Target\"] = (sp500[\"Tomorrow\"] > sp500[\"Close\"]).astype(int)"
   ]
  },
  {
   "cell_type": "code",
   "execution_count": 8,
   "id": "79e58626-3be6-45f7-b1aa-1786593e3bd6",
   "metadata": {},
   "outputs": [],
   "source": [
    "sp500 = sp500.loc[\"1990-01-01\":].copy()"
   ]
  },
  {
   "cell_type": "code",
   "execution_count": 9,
   "id": "2359aac5-6f8a-463c-8069-9c4fa1a83305",
   "metadata": {},
   "outputs": [
    {
     "data": {
      "text/html": [
       "<div>\n",
       "<style scoped>\n",
       "    .dataframe tbody tr th:only-of-type {\n",
       "        vertical-align: middle;\n",
       "    }\n",
       "\n",
       "    .dataframe tbody tr th {\n",
       "        vertical-align: top;\n",
       "    }\n",
       "\n",
       "    .dataframe thead th {\n",
       "        text-align: right;\n",
       "    }\n",
       "</style>\n",
       "<table border=\"1\" class=\"dataframe\">\n",
       "  <thead>\n",
       "    <tr style=\"text-align: right;\">\n",
       "      <th></th>\n",
       "      <th>Open</th>\n",
       "      <th>High</th>\n",
       "      <th>Low</th>\n",
       "      <th>Close</th>\n",
       "      <th>Volume</th>\n",
       "      <th>Tomorrow</th>\n",
       "      <th>Target</th>\n",
       "    </tr>\n",
       "    <tr>\n",
       "      <th>Date</th>\n",
       "      <th></th>\n",
       "      <th></th>\n",
       "      <th></th>\n",
       "      <th></th>\n",
       "      <th></th>\n",
       "      <th></th>\n",
       "      <th></th>\n",
       "    </tr>\n",
       "  </thead>\n",
       "  <tbody>\n",
       "    <tr>\n",
       "      <th>1990-01-02</th>\n",
       "      <td>353.399994</td>\n",
       "      <td>359.690002</td>\n",
       "      <td>351.980011</td>\n",
       "      <td>359.690002</td>\n",
       "      <td>162070000</td>\n",
       "      <td>358.760010</td>\n",
       "      <td>0</td>\n",
       "    </tr>\n",
       "    <tr>\n",
       "      <th>1990-01-03</th>\n",
       "      <td>359.690002</td>\n",
       "      <td>360.589996</td>\n",
       "      <td>357.890015</td>\n",
       "      <td>358.760010</td>\n",
       "      <td>192330000</td>\n",
       "      <td>355.670013</td>\n",
       "      <td>0</td>\n",
       "    </tr>\n",
       "    <tr>\n",
       "      <th>1990-01-04</th>\n",
       "      <td>358.760010</td>\n",
       "      <td>358.760010</td>\n",
       "      <td>352.890015</td>\n",
       "      <td>355.670013</td>\n",
       "      <td>177000000</td>\n",
       "      <td>352.200012</td>\n",
       "      <td>0</td>\n",
       "    </tr>\n",
       "    <tr>\n",
       "      <th>1990-01-05</th>\n",
       "      <td>355.670013</td>\n",
       "      <td>355.670013</td>\n",
       "      <td>351.350006</td>\n",
       "      <td>352.200012</td>\n",
       "      <td>158530000</td>\n",
       "      <td>353.790009</td>\n",
       "      <td>1</td>\n",
       "    </tr>\n",
       "    <tr>\n",
       "      <th>1990-01-08</th>\n",
       "      <td>352.200012</td>\n",
       "      <td>354.239990</td>\n",
       "      <td>350.540009</td>\n",
       "      <td>353.790009</td>\n",
       "      <td>140110000</td>\n",
       "      <td>349.619995</td>\n",
       "      <td>0</td>\n",
       "    </tr>\n",
       "    <tr>\n",
       "      <th>...</th>\n",
       "      <td>...</td>\n",
       "      <td>...</td>\n",
       "      <td>...</td>\n",
       "      <td>...</td>\n",
       "      <td>...</td>\n",
       "      <td>...</td>\n",
       "      <td>...</td>\n",
       "    </tr>\n",
       "    <tr>\n",
       "      <th>2022-05-10</th>\n",
       "      <td>4035.179932</td>\n",
       "      <td>4068.820068</td>\n",
       "      <td>3958.169922</td>\n",
       "      <td>4001.050049</td>\n",
       "      <td>4630150000</td>\n",
       "      <td>3935.179932</td>\n",
       "      <td>0</td>\n",
       "    </tr>\n",
       "    <tr>\n",
       "      <th>2022-05-11</th>\n",
       "      <td>3990.080078</td>\n",
       "      <td>4049.090088</td>\n",
       "      <td>3928.820068</td>\n",
       "      <td>3935.179932</td>\n",
       "      <td>4683220000</td>\n",
       "      <td>3930.080078</td>\n",
       "      <td>0</td>\n",
       "    </tr>\n",
       "    <tr>\n",
       "      <th>2022-05-12</th>\n",
       "      <td>3903.949951</td>\n",
       "      <td>3964.800049</td>\n",
       "      <td>3858.870117</td>\n",
       "      <td>3930.080078</td>\n",
       "      <td>4964130000</td>\n",
       "      <td>4023.889893</td>\n",
       "      <td>1</td>\n",
       "    </tr>\n",
       "    <tr>\n",
       "      <th>2022-05-13</th>\n",
       "      <td>3963.899902</td>\n",
       "      <td>4038.879883</td>\n",
       "      <td>3963.899902</td>\n",
       "      <td>4023.889893</td>\n",
       "      <td>4142950000</td>\n",
       "      <td>4008.010010</td>\n",
       "      <td>0</td>\n",
       "    </tr>\n",
       "    <tr>\n",
       "      <th>2022-05-16</th>\n",
       "      <td>4013.020020</td>\n",
       "      <td>4046.459961</td>\n",
       "      <td>3983.989990</td>\n",
       "      <td>4008.010010</td>\n",
       "      <td>2203333000</td>\n",
       "      <td>NaN</td>\n",
       "      <td>0</td>\n",
       "    </tr>\n",
       "  </tbody>\n",
       "</table>\n",
       "<p>8157 rows × 7 columns</p>\n",
       "</div>"
      ],
      "text/plain": [
       "                   Open         High          Low        Close      Volume  \\\n",
       "Date                                                                         \n",
       "1990-01-02   353.399994   359.690002   351.980011   359.690002   162070000   \n",
       "1990-01-03   359.690002   360.589996   357.890015   358.760010   192330000   \n",
       "1990-01-04   358.760010   358.760010   352.890015   355.670013   177000000   \n",
       "1990-01-05   355.670013   355.670013   351.350006   352.200012   158530000   \n",
       "1990-01-08   352.200012   354.239990   350.540009   353.790009   140110000   \n",
       "...                 ...          ...          ...          ...         ...   \n",
       "2022-05-10  4035.179932  4068.820068  3958.169922  4001.050049  4630150000   \n",
       "2022-05-11  3990.080078  4049.090088  3928.820068  3935.179932  4683220000   \n",
       "2022-05-12  3903.949951  3964.800049  3858.870117  3930.080078  4964130000   \n",
       "2022-05-13  3963.899902  4038.879883  3963.899902  4023.889893  4142950000   \n",
       "2022-05-16  4013.020020  4046.459961  3983.989990  4008.010010  2203333000   \n",
       "\n",
       "               Tomorrow  Target  \n",
       "Date                             \n",
       "1990-01-02   358.760010       0  \n",
       "1990-01-03   355.670013       0  \n",
       "1990-01-04   352.200012       0  \n",
       "1990-01-05   353.790009       1  \n",
       "1990-01-08   349.619995       0  \n",
       "...                 ...     ...  \n",
       "2022-05-10  3935.179932       0  \n",
       "2022-05-11  3930.080078       0  \n",
       "2022-05-12  4023.889893       1  \n",
       "2022-05-13  4008.010010       0  \n",
       "2022-05-16          NaN       0  \n",
       "\n",
       "[8157 rows x 7 columns]"
      ]
     },
     "execution_count": 9,
     "metadata": {},
     "output_type": "execute_result"
    }
   ],
   "source": [
    "sp500"
   ]
  },
  {
   "cell_type": "code",
   "execution_count": 10,
   "id": "ad95d689-520a-4141-ab6e-a0fe3f9697a6",
   "metadata": {},
   "outputs": [
    {
     "data": {
      "text/plain": [
       "RandomForestClassifier(min_samples_split=100, random_state=1)"
      ]
     },
     "execution_count": 10,
     "metadata": {},
     "output_type": "execute_result"
    }
   ],
   "source": [
    "from sklearn.ensemble import RandomForestClassifier\n",
    "\n",
    "model = RandomForestClassifier(n_estimators=100, min_samples_split=100, random_state=1)\n",
    "\n",
    "train = sp500.iloc[:-100]\n",
    "test = sp500.iloc[-100:]\n",
    "\n",
    "predictors = [\"Close\", \"Volume\", \"Open\", \"High\", \"Low\"]\n",
    "model.fit(train[predictors], train[\"Target\"])"
   ]
  },
  {
   "cell_type": "code",
   "execution_count": 11,
   "id": "c0837787-5d4e-4a20-ad0d-3a546bc23cdb",
   "metadata": {},
   "outputs": [
    {
     "data": {
      "text/plain": [
       "0.42857142857142855"
      ]
     },
     "execution_count": 11,
     "metadata": {},
     "output_type": "execute_result"
    }
   ],
   "source": [
    "from sklearn.metrics import precision_score\n",
    "\n",
    "preds = model.predict(test[predictors])\n",
    "preds = pd.Series(preds, index=test.index)\n",
    "precision_score(test[\"Target\"], preds)"
   ]
  },
  {
   "cell_type": "code",
   "execution_count": 12,
   "id": "e33e349f-8365-4282-91db-3b5824e83262",
   "metadata": {},
   "outputs": [
    {
     "data": {
      "text/plain": [
       "<AxesSubplot:xlabel='Date'>"
      ]
     },
     "execution_count": 12,
     "metadata": {},
     "output_type": "execute_result"
    },
    {
     "data": {
      "image/png": "[encoded data removed]",
      "text/plain": [
       "<Figure size 432x288 with 1 Axes>"
      ]
     },
     "metadata": {
      "needs_background": "light"
     },
     "output_type": "display_data"
    }
   ],
   "source": [
    "combined = pd.concat([test[\"Target\"], preds], axis=1)\n",
    "combined.plot()"
   ]
  },
  {
   "cell_type": "code",
   "execution_count": 28,
   "id": "d4049497-0ee7-4399-83ab-ef61ccf71133",
   "metadata": {},
   "outputs": [],
   "source": [
    "def predict(train, test, predictors, model):\n",
    "    model.fit(train[predictors], train[\"Target\"])\n",
    "    preds = model.predict(test[predictors])\n",
    "    preds = pd.Series(preds, index=test.index, name=\"Predictions\")\n",
    "    combined = pd.concat([test[\"Target\"], preds], axis=1)\n",
    "    return combined"
   ]
  },
  {
   "cell_type": "code",
   "execution_count": 14,
   "id": "ca97d93a-6841-49ef-8f91-25a713baef16",
   "metadata": {},
   "outputs": [],
   "source": [
    "def backtest(data, model, predictors, start=1000, step=750):\n",
    "    all_predictions = []\n",
    "\n",
    "    for i in range(start, data.shape[0], step):\n",
    "        train = data.iloc[0:i].copy()\n",
    "        test = data.iloc[i:(i+step)].copy()\n",
    "        predictions = predict(train, test, predictors, model)\n",
    "        all_predictions.append(predictions)\n",
    "    \n",
    "    return pd.concat(all_predictions)"
   ]
  },
  {
   "cell_type": "code",
   "execution_count": 15,
   "id": "8a75261f-d2de-4bc6-9364-54d520c63985",
   "metadata": {},
   "outputs": [],
   "source": [
    "predictions = backtest(sp500, model, predictors)"
   ]
  },
  {
   "cell_type": "code",
   "execution_count": 16,
   "id": "439d8704-c55d-4d1f-a709-acdc0f485e87",
   "metadata": {},
   "outputs": [
    {
     "data": {
      "text/plain": [
       "0    4192\n",
       "1    2965\n",
       "Name: Predictions, dtype: int64"
      ]
     },
     "execution_count": 16,
     "metadata": {},
     "output_type": "execute_result"
    }
   ],
   "source": [
    "predictions[\"Predictions\"].value_counts()"
   ]
  },
  {
   "cell_type": "code",
   "execution_count": 17,
   "id": "bf105e8f-6be5-4494-9658-233761f1c4f4",
   "metadata": {},
   "outputs": [
    {
     "data": {
      "text/plain": [
       "0.5433389544688026"
      ]
     },
     "execution_count": 17,
     "metadata": {},
     "output_type": "execute_result"
    }
   ],
   "source": [
    "precision_score(predictions[\"Target\"], predictions[\"Predictions\"])"
   ]
  },
  {
   "cell_type": "code",
   "execution_count": 18,
   "id": "eff25a20-375e-444a-b5d3-b558753fc817",
   "metadata": {},
   "outputs": [
    {
     "data": {
      "text/plain": [
       "1    0.539751\n",
       "0    0.460249\n",
       "Name: Target, dtype: float64"
      ]
     },
     "execution_count": 18,
     "metadata": {},
     "output_type": "execute_result"
    }
   ],
   "source": [
    "predictions[\"Target\"].value_counts() / predictions.shape[0]"
   ]
  },
  {
   "cell_type": "code",
   "execution_count": 20,
   "id": "ed05ece5-f1f4-443a-b179-33c7e709ea4d",
   "metadata": {},
   "outputs": [],
   "source": [
    "horizons = [7,90,365]\n",
    "\n",
    "for horizon in horizons:\n",
    "    column = f\"Close_{horizon}\"\n",
    "    sp500[column] =  sp500.rolling(horizon).mean()[\"Close\"]\n",
    "    \n",
    "    ratio_column = f\"Close_Ratio_{horizon}\"\n",
    "    sp500[ratio_column] = sp500[\"Close\"] / sp500[column]\n",
    "    \n",
    "    trend_column = f\"Trend_{horizon}\"\n",
    "    sp500[trend_column] = sp500.shift(1).rolling(horizon).sum()[\"Target\"]\n",
    "    \n",
    "    predictors+= [ratio_column, trend_column]"
   ]
  },
  {
   "cell_type": "code",
   "execution_count": 21,
   "id": "6c04ab2d-64ff-4f56-a206-605dcce30372",
   "metadata": {},
   "outputs": [],
   "source": [
    "sp500 = sp500.dropna()"
   ]
  },
  {
   "cell_type": "code",
   "execution_count": 22,
   "id": "fd7b2523-85a4-477d-975d-9cf64b1ff557",
   "metadata": {},
   "outputs": [
    {
     "data": {
      "text/html": [
       "<div>\n",
       "<style scoped>\n",
       "    .dataframe tbody tr th:only-of-type {\n",
       "        vertical-align: middle;\n",
       "    }\n",
       "\n",
       "    .dataframe tbody tr th {\n",
       "        vertical-align: top;\n",
       "    }\n",
       "\n",
       "    .dataframe thead th {\n",
       "        text-align: right;\n",
       "    }\n",
       "</style>\n",
       "<table border=\"1\" class=\"dataframe\">\n",
       "  <thead>\n",
       "    <tr style=\"text-align: right;\">\n",
       "      <th></th>\n",
       "      <th>Open</th>\n",
       "      <th>High</th>\n",
       "      <th>Low</th>\n",
       "      <th>Close</th>\n",
       "      <th>Volume</th>\n",
       "      <th>Tomorrow</th>\n",
       "      <th>Target</th>\n",
       "      <th>Close_7</th>\n",
       "      <th>Close_Ratio_7</th>\n",
       "      <th>Trend_7</th>\n",
       "      <th>Close_90</th>\n",
       "      <th>Close_Ratio_90</th>\n",
       "      <th>Trend_90</th>\n",
       "      <th>Close_365</th>\n",
       "      <th>Close_Ratio_365</th>\n",
       "      <th>Trend_365</th>\n",
       "    </tr>\n",
       "    <tr>\n",
       "      <th>Date</th>\n",
       "      <th></th>\n",
       "      <th></th>\n",
       "      <th></th>\n",
       "      <th></th>\n",
       "      <th></th>\n",
       "      <th></th>\n",
       "      <th></th>\n",
       "      <th></th>\n",
       "      <th></th>\n",
       "      <th></th>\n",
       "      <th></th>\n",
       "      <th></th>\n",
       "      <th></th>\n",
       "      <th></th>\n",
       "      <th></th>\n",
       "      <th></th>\n",
       "    </tr>\n",
       "  </thead>\n",
       "  <tbody>\n",
       "    <tr>\n",
       "      <th>1991-06-12</th>\n",
       "      <td>381.049988</td>\n",
       "      <td>381.049988</td>\n",
       "      <td>374.459991</td>\n",
       "      <td>376.649994</td>\n",
       "      <td>166140000</td>\n",
       "      <td>377.630005</td>\n",
       "      <td>1</td>\n",
       "      <td>381.737139</td>\n",
       "      <td>0.986674</td>\n",
       "      <td>1.0</td>\n",
       "      <td>374.605666</td>\n",
       "      <td>1.005457</td>\n",
       "      <td>46.0</td>\n",
       "      <td>343.891672</td>\n",
       "      <td>1.095258</td>\n",
       "      <td>191.0</td>\n",
       "    </tr>\n",
       "    <tr>\n",
       "      <th>1991-06-13</th>\n",
       "      <td>376.649994</td>\n",
       "      <td>377.899994</td>\n",
       "      <td>376.079987</td>\n",
       "      <td>377.630005</td>\n",
       "      <td>145650000</td>\n",
       "      <td>382.290009</td>\n",
       "      <td>1</td>\n",
       "      <td>380.292855</td>\n",
       "      <td>0.992998</td>\n",
       "      <td>2.0</td>\n",
       "      <td>374.931111</td>\n",
       "      <td>1.007198</td>\n",
       "      <td>46.0</td>\n",
       "      <td>343.943370</td>\n",
       "      <td>1.097942</td>\n",
       "      <td>192.0</td>\n",
       "    </tr>\n",
       "    <tr>\n",
       "      <th>1991-06-14</th>\n",
       "      <td>377.630005</td>\n",
       "      <td>382.299988</td>\n",
       "      <td>377.630005</td>\n",
       "      <td>382.290009</td>\n",
       "      <td>167950000</td>\n",
       "      <td>380.130005</td>\n",
       "      <td>0</td>\n",
       "      <td>379.892857</td>\n",
       "      <td>1.006310</td>\n",
       "      <td>3.0</td>\n",
       "      <td>375.275888</td>\n",
       "      <td>1.018691</td>\n",
       "      <td>46.0</td>\n",
       "      <td>344.016302</td>\n",
       "      <td>1.111256</td>\n",
       "      <td>193.0</td>\n",
       "    </tr>\n",
       "    <tr>\n",
       "      <th>1991-06-17</th>\n",
       "      <td>382.299988</td>\n",
       "      <td>382.309998</td>\n",
       "      <td>380.130005</td>\n",
       "      <td>380.130005</td>\n",
       "      <td>134230000</td>\n",
       "      <td>378.589996</td>\n",
       "      <td>0</td>\n",
       "      <td>379.392857</td>\n",
       "      <td>1.001943</td>\n",
       "      <td>3.0</td>\n",
       "      <td>375.520999</td>\n",
       "      <td>1.012274</td>\n",
       "      <td>45.0</td>\n",
       "      <td>344.092822</td>\n",
       "      <td>1.104731</td>\n",
       "      <td>193.0</td>\n",
       "    </tr>\n",
       "    <tr>\n",
       "      <th>1991-06-18</th>\n",
       "      <td>380.130005</td>\n",
       "      <td>381.829987</td>\n",
       "      <td>377.989990</td>\n",
       "      <td>378.589996</td>\n",
       "      <td>155200000</td>\n",
       "      <td>375.089996</td>\n",
       "      <td>0</td>\n",
       "      <td>379.272858</td>\n",
       "      <td>0.998200</td>\n",
       "      <td>3.0</td>\n",
       "      <td>375.766222</td>\n",
       "      <td>1.007515</td>\n",
       "      <td>45.0</td>\n",
       "      <td>344.160767</td>\n",
       "      <td>1.100038</td>\n",
       "      <td>192.0</td>\n",
       "    </tr>\n",
       "    <tr>\n",
       "      <th>...</th>\n",
       "      <td>...</td>\n",
       "      <td>...</td>\n",
       "      <td>...</td>\n",
       "      <td>...</td>\n",
       "      <td>...</td>\n",
       "      <td>...</td>\n",
       "      <td>...</td>\n",
       "      <td>...</td>\n",
       "      <td>...</td>\n",
       "      <td>...</td>\n",
       "      <td>...</td>\n",
       "      <td>...</td>\n",
       "      <td>...</td>\n",
       "      <td>...</td>\n",
       "      <td>...</td>\n",
       "      <td>...</td>\n",
       "    </tr>\n",
       "    <tr>\n",
       "      <th>2022-05-09</th>\n",
       "      <td>4081.270020</td>\n",
       "      <td>4081.270020</td>\n",
       "      <td>3975.479980</td>\n",
       "      <td>3991.239990</td>\n",
       "      <td>4746120000</td>\n",
       "      <td>4001.050049</td>\n",
       "      <td>1</td>\n",
       "      <td>4146.344273</td>\n",
       "      <td>0.962593</td>\n",
       "      <td>3.0</td>\n",
       "      <td>4433.581660</td>\n",
       "      <td>0.900229</td>\n",
       "      <td>38.0</td>\n",
       "      <td>4270.019368</td>\n",
       "      <td>0.934712</td>\n",
       "      <td>194.0</td>\n",
       "    </tr>\n",
       "    <tr>\n",
       "      <th>2022-05-10</th>\n",
       "      <td>4035.179932</td>\n",
       "      <td>4068.820068</td>\n",
       "      <td>3958.169922</td>\n",
       "      <td>4001.050049</td>\n",
       "      <td>4630150000</td>\n",
       "      <td>3935.179932</td>\n",
       "      <td>0</td>\n",
       "      <td>4127.647112</td>\n",
       "      <td>0.969329</td>\n",
       "      <td>4.0</td>\n",
       "      <td>4424.940771</td>\n",
       "      <td>0.904204</td>\n",
       "      <td>39.0</td>\n",
       "      <td>4271.036903</td>\n",
       "      <td>0.936787</td>\n",
       "      <td>195.0</td>\n",
       "    </tr>\n",
       "    <tr>\n",
       "      <th>2022-05-11</th>\n",
       "      <td>3990.080078</td>\n",
       "      <td>4049.090088</td>\n",
       "      <td>3928.820068</td>\n",
       "      <td>3935.179932</td>\n",
       "      <td>4683220000</td>\n",
       "      <td>3930.080078</td>\n",
       "      <td>0</td>\n",
       "      <td>4096.189976</td>\n",
       "      <td>0.960693</td>\n",
       "      <td>3.0</td>\n",
       "      <td>4415.707435</td>\n",
       "      <td>0.891178</td>\n",
       "      <td>39.0</td>\n",
       "      <td>4271.850135</td>\n",
       "      <td>0.921189</td>\n",
       "      <td>194.0</td>\n",
       "    </tr>\n",
       "    <tr>\n",
       "      <th>2022-05-12</th>\n",
       "      <td>3903.949951</td>\n",
       "      <td>3964.800049</td>\n",
       "      <td>3858.870117</td>\n",
       "      <td>3930.080078</td>\n",
       "      <td>4964130000</td>\n",
       "      <td>4023.889893</td>\n",
       "      <td>1</td>\n",
       "      <td>4061.132847</td>\n",
       "      <td>0.967730</td>\n",
       "      <td>2.0</td>\n",
       "      <td>4406.079880</td>\n",
       "      <td>0.891968</td>\n",
       "      <td>38.0</td>\n",
       "      <td>4272.695204</td>\n",
       "      <td>0.919813</td>\n",
       "      <td>194.0</td>\n",
       "    </tr>\n",
       "    <tr>\n",
       "      <th>2022-05-13</th>\n",
       "      <td>3963.899902</td>\n",
       "      <td>4038.879883</td>\n",
       "      <td>3963.899902</td>\n",
       "      <td>4023.889893</td>\n",
       "      <td>4142950000</td>\n",
       "      <td>4008.010010</td>\n",
       "      <td>0</td>\n",
       "      <td>4021.664272</td>\n",
       "      <td>1.000553</td>\n",
       "      <td>2.0</td>\n",
       "      <td>4397.528212</td>\n",
       "      <td>0.915034</td>\n",
       "      <td>39.0</td>\n",
       "      <td>4273.685451</td>\n",
       "      <td>0.941550</td>\n",
       "      <td>194.0</td>\n",
       "    </tr>\n",
       "  </tbody>\n",
       "</table>\n",
       "<p>7791 rows × 16 columns</p>\n",
       "</div>"
      ],
      "text/plain": [
       "                   Open         High          Low        Close      Volume  \\\n",
       "Date                                                                         \n",
       "1991-06-12   381.049988   381.049988   374.459991   376.649994   166140000   \n",
       "1991-06-13   376.649994   377.899994   376.079987   377.630005   145650000   \n",
       "1991-06-14   377.630005   382.299988   377.630005   382.290009   167950000   \n",
       "1991-06-17   382.299988   382.309998   380.130005   380.130005   134230000   \n",
       "1991-06-18   380.130005   381.829987   377.989990   378.589996   155200000   \n",
       "...                 ...          ...          ...          ...         ...   \n",
       "2022-05-09  4081.270020  4081.270020  3975.479980  3991.239990  4746120000   \n",
       "2022-05-10  4035.179932  4068.820068  3958.169922  4001.050049  4630150000   \n",
       "2022-05-11  3990.080078  4049.090088  3928.820068  3935.179932  4683220000   \n",
       "2022-05-12  3903.949951  3964.800049  3858.870117  3930.080078  4964130000   \n",
       "2022-05-13  3963.899902  4038.879883  3963.899902  4023.889893  4142950000   \n",
       "\n",
       "               Tomorrow  Target      Close_7  Close_Ratio_7  Trend_7  \\\n",
       "Date                                                                   \n",
       "1991-06-12   377.630005       1   381.737139       0.986674      1.0   \n",
       "1991-06-13   382.290009       1   380.292855       0.992998      2.0   \n",
       "1991-06-14   380.130005       0   379.892857       1.006310      3.0   \n",
       "1991-06-17   378.589996       0   379.392857       1.001943      3.0   \n",
       "1991-06-18   375.089996       0   379.272858       0.998200      3.0   \n",
       "...                 ...     ...          ...            ...      ...   \n",
       "2022-05-09  4001.050049       1  4146.344273       0.962593      3.0   \n",
       "2022-05-10  3935.179932       0  4127.647112       0.969329      4.0   \n",
       "2022-05-11  3930.080078       0  4096.189976       0.960693      3.0   \n",
       "2022-05-12  4023.889893       1  4061.132847       0.967730      2.0   \n",
       "2022-05-13  4008.010010       0  4021.664272       1.000553      2.0   \n",
       "\n",
       "               Close_90  Close_Ratio_90  Trend_90    Close_365  \\\n",
       "Date                                                             \n",
       "1991-06-12   374.605666        1.005457      46.0   343.891672   \n",
       "1991-06-13   374.931111        1.007198      46.0   343.943370   \n",
       "1991-06-14   375.275888        1.018691      46.0   344.016302   \n",
       "1991-06-17   375.520999        1.012274      45.0   344.092822   \n",
       "1991-06-18   375.766222        1.007515      45.0   344.160767   \n",
       "...                 ...             ...       ...          ...   \n",
       "2022-05-09  4433.581660        0.900229      38.0  4270.019368   \n",
       "2022-05-10  4424.940771        0.904204      39.0  4271.036903   \n",
       "2022-05-11  4415.707435        0.891178      39.0  4271.850135   \n",
       "2022-05-12  4406.079880        0.891968      38.0  4272.695204   \n",
       "2022-05-13  4397.528212        0.915034      39.0  4273.685451   \n",
       "\n",
       "            Close_Ratio_365  Trend_365  \n",
       "Date                                    \n",
       "1991-06-12         1.095258      191.0  \n",
       "1991-06-13         1.097942      192.0  \n",
       "1991-06-14         1.111256      193.0  \n",
       "1991-06-17         1.104731      193.0  \n",
       "1991-06-18         1.100038      192.0  \n",
       "...                     ...        ...  \n",
       "2022-05-09         0.934712      194.0  \n",
       "2022-05-10         0.936787      195.0  \n",
       "2022-05-11         0.921189      194.0  \n",
       "2022-05-12         0.919813      194.0  \n",
       "2022-05-13         0.941550      194.0  \n",
       "\n",
       "[7791 rows x 16 columns]"
      ]
     },
     "execution_count": 22,
     "metadata": {},
     "output_type": "execute_result"
    }
   ],
   "source": [
    "sp500"
   ]
  },
  {
   "cell_type": "code",
   "execution_count": 33,
   "id": "283be581-dbe1-4f02-8851-ff1a027b4104",
   "metadata": {},
   "outputs": [],
   "source": [
    "model = RandomForestClassifier(n_estimators=200, min_samples_split=50, random_state=1)"
   ]
  },
  {
   "cell_type": "code",
   "execution_count": 34,
   "id": "fb820946-1275-4914-b6a8-355e96f315b6",
   "metadata": {},
   "outputs": [],
   "source": [
    "predictions = backtest(sp500, model, predictors)"
   ]
  },
  {
   "cell_type": "code",
   "execution_count": 30,
   "id": "a73e1816-283a-47ac-af43-4550b80307ef",
   "metadata": {},
   "outputs": [
    {
     "data": {
      "text/plain": [
       "0    3398\n",
       "1    3393\n",
       "Name: Predictions, dtype: int64"
      ]
     },
     "execution_count": 30,
     "metadata": {},
     "output_type": "execute_result"
    }
   ],
   "source": [
    "predictions[\"Predictions\"].value_counts()"
   ]
  },
  {
   "cell_type": "code",
   "execution_count": 31,
   "id": "14acc336-4991-4189-bb16-4a8bf53056e1",
   "metadata": {},
   "outputs": [
    {
     "data": {
      "text/plain": [
       "0.5473032714412025"
      ]
     },
     "execution_count": 31,
     "metadata": {},
     "output_type": "execute_result"
    }
   ],
   "source": [
    "precision_score(predictions[\"Target\"], predictions[\"Predictions\"])"
   ]
  },
  {
   "cell_type": "code",
   "execution_count": 32,
   "id": "21b3d365-2157-4229-a785-ae687da0f21f",
   "metadata": {},
   "outputs": [
    {
     "data": {
      "text/plain": [
       "1    0.53836\n",
       "0    0.46164\n",
       "Name: Target, dtype: float64"
      ]
     },
     "execution_count": 32,
     "metadata": {},
     "output_type": "execute_result"
    }
   ],
   "source": [
    "predictions[\"Target\"].value_counts() / predictions.shape[0]"
   ]
  },
  {
   "cell_type": "code",
   "execution_count": null,
   "id": "96897e06-9f71-4169-8eee-6e8759b003ac",
   "metadata": {},
   "outputs": [],
   "source": []
  }
 ],
 "metadata": {
  "kernelspec": {
   "display_name": "Python 3 (ipykernel)",
   "language": "python",
   "name": "python3"
  },
  "language_info": {
   "codemirror_mode": {
    "name": "ipython",
    "version": 3
   },
   "file_extension": ".py",
   "mimetype": "text/x-python",
   "name": "python",
   "nbconvert_exporter": "python",
   "pygments_lexer": "ipython3",
   "version": "3.9.12"
  }
 },
 "nbformat": 4,
 "nbformat_minor": 5
}

{
 "cells": [
  {
   "cell_type": "code",
   "execution_count": 1,
   "id": "2c42e78f-c4a0-47bd-ae2c-a54da0917f79",
   "metadata": {},
   "outputs": [],
   "source": [
    "import gzip\n",
    "\n",
    "with gzip.open(\"goodreads_books.json.gz\") as f:\n",
    "    line = f.readline()"
   ]
  },
  {
   "cell_type": "code",
   "execution_count": 2,
   "id": "50cf97d6-26c3-4827-baef-ae3253bf3567",
   "metadata": {},
   "outputs": [
    {
     "data": {
      "text/plain": [
       "b'{\"isbn\": \"0312853122\", \"text_reviews_count\": \"1\", \"series\": [], \"country_code\": \"US\", \"language_code\": \"\", \"popular_shelves\": [{\"count\": \"3\", \"name\": \"to-read\"}, {\"count\": \"1\", \"name\": \"p\"}, {\"count\": \"1\", \"name\": \"collection\"}, {\"count\": \"1\", \"name\": \"w-c-fields\"}, {\"count\": \"1\", \"name\": \"biography\"}], \"asin\": \"\", \"is_ebook\": \"false\", \"average_rating\": \"4.00\", \"kindle_asin\": \"\", \"similar_books\": [], \"description\": \"\", \"format\": \"Paperback\", \"link\": \"https://www.goodreads.com/book/show/5333265-w-c-fields\", \"authors\": [{\"author_id\": \"604031\", \"role\": \"\"}], \"publisher\": \"St. Martin\\'s Press\", \"num_pages\": \"256\", \"publication_day\": \"1\", \"isbn13\": \"9780312853129\", \"publication_month\": \"9\", \"edition_information\": \"\", \"publication_year\": \"1984\", \"url\": \"https://www.goodreads.com/book/show/5333265-w-c-fields\", \"image_url\": \"https://images.gr-assets.com/books/1310220028m/5333265.jpg\", \"book_id\": \"5333265\", \"ratings_count\": \"3\", \"work_id\": \"5400751\", \"title\": \"W.C. Fields: A Life on Film\", \"title_without_series\": \"W.C. Fields: A Life on Film\"}\\n'"
      ]
     },
     "execution_count": 2,
     "metadata": {},
     "output_type": "execute_result"
    }
   ],
   "source": [
    "line"
   ]
  },
  {
   "cell_type": "code",
   "execution_count": 3,
   "id": "7f8b6cf4-ec1a-400d-992d-50ccb61d349d",
   "metadata": {},
   "outputs": [],
   "source": [
    "import json\n",
    "\n",
    "data = json.loads(line)"
   ]
  },
  {
   "cell_type": "code",
   "execution_count": 4,
   "id": "8273e779-d7b9-4264-9828-d06808c65034",
   "metadata": {},
   "outputs": [],
   "source": [
    "def parse_fields(line):\n",
    "    data = json.loads(line)\n",
    "    return {\"book_id\": data[\"book_id\"], \"title\": data[\"title_without_series\"], \"ratings\": data[\"ratings_count\"], \"url\": data[\"url\"]}"
   ]
  },
  {
   "cell_type": "code",
   "execution_count": 5,
   "id": "17a3ce41-de41-4ea1-bfa8-115be0e562c4",
   "metadata": {},
   "outputs": [],
   "source": [
    "books_titles = []\n",
    "with gzip.open(\"goodreads_books.json.gz\") as f:\n",
    "    while True:\n",
    "        line = f.readline()\n",
    "        if not line:\n",
    "            break\n",
    "        fields = parse_fields(line)\n",
    "        try:\n",
    "            ratings = int(fields[\"ratings\"])\n",
    "        except ValueError:\n",
    "            continue\n",
    "        if ratings > 5:\n",
    "            books_titles.append(fields)"
   ]
  },
  {
   "cell_type": "code",
   "execution_count": 6,
   "id": "48fed036-f0b6-4978-a85c-51d7dee9b93b",
   "metadata": {},
   "outputs": [],
   "source": [
    "with open(\"books_titles.json\", \"w+\") as f:\n",
    "    json.dump(books_titles, f)"
   ]
  },
  {
   "cell_type": "code",
   "execution_count": 7,
   "id": "41ce3dff-3be7-4eaa-825c-a7ff1f93c3c1",
   "metadata": {},
   "outputs": [],
   "source": [
    "import pandas as pd\n",
    "\n",
    "titles = pd.DataFrame.from_dict(books_titles)"
   ]
  },
  {
   "cell_type": "code",
   "execution_count": 8,
   "id": "a33b8436-958b-40a9-b7c6-74cb352eb468",
   "metadata": {},
   "outputs": [],
   "source": [
    "titles[\"ratings\"] = pd.to_numeric(titles[\"ratings\"])"
   ]
  },
  {
   "cell_type": "code",
   "execution_count": 9,
   "id": "94216bb6-4efb-4ae3-9741-99266d423cef",
   "metadata": {},
   "outputs": [],
   "source": [
    "titles[\"mod_title\"] = titles[\"title\"].str.replace(\"[^a-zA-Z0-9 ]\", \"\", regex=True)"
   ]
  },
  {
   "cell_type": "code",
   "execution_count": 10,
   "id": "c6f0e50d-f6e3-42ce-8cbf-e1bfde803b01",
   "metadata": {},
   "outputs": [],
   "source": [
    "titles[\"mod_title\"] = titles[\"mod_title\"].str.lower()"
   ]
  },
  {
   "cell_type": "code",
   "execution_count": 11,
   "id": "daa2a250-8e4e-4340-b241-dfaf0758ee02",
   "metadata": {},
   "outputs": [
    {
     "data": {
      "text/html": [
       "<div>\n",
       "<style scoped>\n",
       "    .dataframe tbody tr th:only-of-type {\n",
       "        vertical-align: middle;\n",
       "    }\n",
       "\n",
       "    .dataframe tbody tr th {\n",
       "        vertical-align: top;\n",
       "    }\n",
       "\n",
       "    .dataframe thead th {\n",
       "        text-align: right;\n",
       "    }\n",
       "</style>\n",
       "<table border=\"1\" class=\"dataframe\">\n",
       "  <thead>\n",
       "    <tr style=\"text-align: right;\">\n",
       "      <th></th>\n",
       "      <th>book_id</th>\n",
       "      <th>title</th>\n",
       "      <th>ratings</th>\n",
       "      <th>url</th>\n",
       "      <th>mod_title</th>\n",
       "    </tr>\n",
       "  </thead>\n",
       "  <tbody>\n",
       "    <tr>\n",
       "      <th>0</th>\n",
       "      <td>1333909</td>\n",
       "      <td>Good Harbor</td>\n",
       "      <td>10</td>\n",
       "      <td>https://www.goodreads.com/book/show/1333909.Go...</td>\n",
       "      <td>good harbor</td>\n",
       "    </tr>\n",
       "    <tr>\n",
       "      <th>1</th>\n",
       "      <td>7327624</td>\n",
       "      <td>The Unschooled Wizard (Sun Wolf and Starhawk, ...</td>\n",
       "      <td>140</td>\n",
       "      <td>https://www.goodreads.com/book/show/7327624-th...</td>\n",
       "      <td>the unschooled wizard sun wolf and starhawk 12</td>\n",
       "    </tr>\n",
       "    <tr>\n",
       "      <th>2</th>\n",
       "      <td>6066819</td>\n",
       "      <td>Best Friends Forever</td>\n",
       "      <td>51184</td>\n",
       "      <td>https://www.goodreads.com/book/show/6066819-be...</td>\n",
       "      <td>best friends forever</td>\n",
       "    </tr>\n",
       "    <tr>\n",
       "      <th>3</th>\n",
       "      <td>287140</td>\n",
       "      <td>Runic Astrology: Starcraft and Timekeeping in ...</td>\n",
       "      <td>15</td>\n",
       "      <td>https://www.goodreads.com/book/show/287140.Run...</td>\n",
       "      <td>runic astrology starcraft and timekeeping in t...</td>\n",
       "    </tr>\n",
       "    <tr>\n",
       "      <th>4</th>\n",
       "      <td>287141</td>\n",
       "      <td>The Aeneid for Boys and Girls</td>\n",
       "      <td>46</td>\n",
       "      <td>https://www.goodreads.com/book/show/287141.The...</td>\n",
       "      <td>the aeneid for boys and girls</td>\n",
       "    </tr>\n",
       "  </tbody>\n",
       "</table>\n",
       "</div>"
      ],
      "text/plain": [
       "   book_id                                              title  ratings  \\\n",
       "0  1333909                                        Good Harbor       10   \n",
       "1  7327624  The Unschooled Wizard (Sun Wolf and Starhawk, ...      140   \n",
       "2  6066819                               Best Friends Forever    51184   \n",
       "3   287140  Runic Astrology: Starcraft and Timekeeping in ...       15   \n",
       "4   287141                      The Aeneid for Boys and Girls       46   \n",
       "\n",
       "                                                 url  \\\n",
       "0  https://www.goodreads.com/book/show/1333909.Go...   \n",
       "1  https://www.goodreads.com/book/show/7327624-th...   \n",
       "2  https://www.goodreads.com/book/show/6066819-be...   \n",
       "3  https://www.goodreads.com/book/show/287140.Run...   \n",
       "4  https://www.goodreads.com/book/show/287141.The...   \n",
       "\n",
       "                                           mod_title  \n",
       "0                                        good harbor  \n",
       "1     the unschooled wizard sun wolf and starhawk 12  \n",
       "2                               best friends forever  \n",
       "3  runic astrology starcraft and timekeeping in t...  \n",
       "4                      the aeneid for boys and girls  "
      ]
     },
     "execution_count": 11,
     "metadata": {},
     "output_type": "execute_result"
    }
   ],
   "source": [
    "titles.head()"
   ]
  },
  {
   "cell_type": "code",
   "execution_count": 12,
   "id": "fc17003a-e042-4844-b7f3-5bb807ee7570",
   "metadata": {},
   "outputs": [],
   "source": [
    "from sklearn.feature_extraction.text import TfidfVectorizer\n",
    "vectorizer = TfidfVectorizer()\n",
    "\n",
    "tfidf = vectorizer.fit_transform(titles[\"mod_title\"])"
   ]
  },
  {
   "cell_type": "code",
   "execution_count": 19,
   "id": "fc60567c-feb3-4ff4-8b5e-07c33d881351",
   "metadata": {},
   "outputs": [],
   "source": [
    "from sklearn.metrics.pairwise import linear_kernel\n",
    "import numpy as np\n",
    "\n",
    "def make_clickable(val):\n",
    "    return '<a target=\"_blank\" href=\"{}\">{}</a>'.format(val, val)\n",
    "\n",
    "def search(query,vectorizer):\n",
    "    processed = re.sub(\"[^a-zA-Z0-9 ]\", \"\", query.lower())\n",
    "    query_vec = vectorizer.transform([query])\n",
    "    similarity = linear_kernel(query_vec, tfidf).flatten()\n",
    "    indices = np.argpartition(similarity, -10)[-10:]\n",
    "    results = titles.iloc[indices]\n",
    "    results = results.sort_values(\"ratings\", ascending=False)\n",
    "    \n",
    "    return results.head(5).style.format({'url': make_clickable})"
   ]
  },
  {
   "cell_type": "code",
   "execution_count": 28,
   "id": "c5be8db0-bc22-4a69-b7ac-d3a1f9dd0d4f",
   "metadata": {},
   "outputs": [
    {
     "data": {
      "text/html": [
       "<style type=\"text/css\">\n",
       "</style>\n",
       "<table id=\"T_6cf0a_\">\n",
       "  <thead>\n",
       "    <tr>\n",
       "      <th class=\"blank level0\" >&nbsp;</th>\n",
       "      <th class=\"col_heading level0 col0\" >book_id</th>\n",
       "      <th class=\"col_heading level0 col1\" >title</th>\n",
       "      <th class=\"col_heading level0 col2\" >ratings</th>\n",
       "      <th class=\"col_heading level0 col3\" >url</th>\n",
       "      <th class=\"col_heading level0 col4\" >mod_title</th>\n",
       "    </tr>\n",
       "  </thead>\n",
       "  <tbody>\n",
       "    <tr>\n",
       "      <th id=\"T_6cf0a_level0_row0\" class=\"row_heading level0 row0\" >791806</th>\n",
       "      <td id=\"T_6cf0a_row0_col0\" class=\"data row0 col0\" >8153988</td>\n",
       "      <td id=\"T_6cf0a_row0_col1\" class=\"data row0 col1\" >The Eye of the World (Wheel of Time, #1)</td>\n",
       "      <td id=\"T_6cf0a_row0_col2\" class=\"data row0 col2\" >5740</td>\n",
       "      <td id=\"T_6cf0a_row0_col3\" class=\"data row0 col3\" ><a target=\"_blank\" href=\"https://www.goodreads.com/book/show/8153988-the-eye-of-the-world\">https://www.goodreads.com/book/show/8153988-the-eye-of-the-world</a></td>\n",
       "      <td id=\"T_6cf0a_row0_col4\" class=\"data row0 col4\" >the eye of the world wheel of time 1</td>\n",
       "    </tr>\n",
       "    <tr>\n",
       "      <th id=\"T_6cf0a_level0_row1\" class=\"row_heading level0 row1\" >537081</th>\n",
       "      <td id=\"T_6cf0a_row1_col0\" class=\"data row1 col0\" >1111608</td>\n",
       "      <td id=\"T_6cf0a_row1_col1\" class=\"data row1 col1\" >The Eye of the World (Wheel of Time, #1)</td>\n",
       "      <td id=\"T_6cf0a_row1_col2\" class=\"data row1 col2\" >1800</td>\n",
       "      <td id=\"T_6cf0a_row1_col3\" class=\"data row1 col3\" ><a target=\"_blank\" href=\"https://www.goodreads.com/book/show/1111608.The_Eye_of_the_World\">https://www.goodreads.com/book/show/1111608.The_Eye_of_the_World</a></td>\n",
       "      <td id=\"T_6cf0a_row1_col4\" class=\"data row1 col4\" >the eye of the world wheel of time 1</td>\n",
       "    </tr>\n",
       "    <tr>\n",
       "      <th id=\"T_6cf0a_level0_row2\" class=\"row_heading level0 row2\" >1128956</th>\n",
       "      <td id=\"T_6cf0a_row2_col0\" class=\"data row2 col0\" >11203854</td>\n",
       "      <td id=\"T_6cf0a_row2_col1\" class=\"data row2 col1\" >The Eye of the World (Wheel of Time, #1)</td>\n",
       "      <td id=\"T_6cf0a_row2_col2\" class=\"data row2 col2\" >911</td>\n",
       "      <td id=\"T_6cf0a_row2_col3\" class=\"data row2 col3\" ><a target=\"_blank\" href=\"https://www.goodreads.com/book/show/11203854-the-eye-of-the-world\">https://www.goodreads.com/book/show/11203854-the-eye-of-the-world</a></td>\n",
       "      <td id=\"T_6cf0a_row2_col4\" class=\"data row2 col4\" >the eye of the world wheel of time 1</td>\n",
       "    </tr>\n",
       "    <tr>\n",
       "      <th id=\"T_6cf0a_level0_row3\" class=\"row_heading level0 row3\" >1333452</th>\n",
       "      <td id=\"T_6cf0a_row3_col0\" class=\"data row3 col0\" >13513481</td>\n",
       "      <td id=\"T_6cf0a_row3_col1\" class=\"data row3 col1\" >The Eye of the World (Wheel of Time, #1)</td>\n",
       "      <td id=\"T_6cf0a_row3_col2\" class=\"data row3 col2\" >555</td>\n",
       "      <td id=\"T_6cf0a_row3_col3\" class=\"data row3 col3\" ><a target=\"_blank\" href=\"https://www.goodreads.com/book/show/13513481-the-eye-of-the-world\">https://www.goodreads.com/book/show/13513481-the-eye-of-the-world</a></td>\n",
       "      <td id=\"T_6cf0a_row3_col4\" class=\"data row3 col4\" >the eye of the world wheel of time 1</td>\n",
       "    </tr>\n",
       "    <tr>\n",
       "      <th id=\"T_6cf0a_level0_row4\" class=\"row_heading level0 row4\" >562701</th>\n",
       "      <td id=\"T_6cf0a_row4_col0\" class=\"data row4 col0\" >7062520</td>\n",
       "      <td id=\"T_6cf0a_row4_col1\" class=\"data row4 col1\" >The Eye of the World (Wheel of Time, #1)</td>\n",
       "      <td id=\"T_6cf0a_row4_col2\" class=\"data row4 col2\" >408</td>\n",
       "      <td id=\"T_6cf0a_row4_col3\" class=\"data row4 col3\" ><a target=\"_blank\" href=\"https://www.goodreads.com/book/show/7062520-the-eye-of-the-world\">https://www.goodreads.com/book/show/7062520-the-eye-of-the-world</a></td>\n",
       "      <td id=\"T_6cf0a_row4_col4\" class=\"data row4 col4\" >the eye of the world wheel of time 1</td>\n",
       "    </tr>\n",
       "  </tbody>\n",
       "</table>\n"
      ],
      "text/plain": [
       "<pandas.io.formats.style.Styler at 0x10c643910>"
      ]
     },
     "execution_count": 28,
     "metadata": {},
     "output_type": "execute_result"
    }
   ],
   "source": [
    "search(\"Wheel of time The Eye of the world\", vectorizer)"
   ]
  },
  {
   "cell_type": "code",
   "execution_count": null,
   "id": "11f0128e-2eaf-405f-bc12-ad8d1d593215",
   "metadata": {},
   "outputs": [],
   "source": []
  }
 ],
 "metadata": {
  "kernelspec": {
   "display_name": "Python 3 (ipykernel)",
   "language": "python",
   "name": "python3"
  },
  "language_info": {
   "codemirror_mode": {
    "name": "ipython",
    "version": 3
   },
   "file_extension": ".py",
   "mimetype": "text/x-python",
   "name": "python",
   "nbconvert_exporter": "python",
   "pygments_lexer": "ipython3",
   "version": "3.9.7"
  }
 },
 "nbformat": 4,
 "nbformat_minor": 5
}
